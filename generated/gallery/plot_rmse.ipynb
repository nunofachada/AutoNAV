{
  "cells": [
    {
      "cell_type": "code",
      "execution_count": null,
      "metadata": {
        "collapsed": false
      },
      "outputs": [],
      "source": [
        "%matplotlib inline"
      ]
    },
    {
      "cell_type": "markdown",
      "metadata": {},
      "source": [
        "# Extract RMSE and ARMSE metrics\n"
      ]
    },
    {
      "cell_type": "code",
      "execution_count": null,
      "metadata": {
        "collapsed": false
      },
      "outputs": [],
      "source": [
        "from autonav import gtrs, wls\nfrom autonav.file_handlers import readpathfile\nfrom autonav.metrics import compute_armse\nfrom autonav.plots import plot_rmse\nfrom numpy import array\n\nb = 200\nn = 8\na_i = array(\n    [\n    [0, 0, 0],\n    [0, b, 0],\n    [b / 2, 0, 0],\n    [b / 2, b, 0],\n    [0, 0, b / 8],\n    [0, b, b / 8],\n    [b / 2, 0, b / 8],\n    [b / 2, b, b / 8],]\n    ).T\nk = 50\nsigma = 1\ninitial_uav_position = [10, 10, 5]\ndestinations = readpathfile(\"Path.csv\")\n\n[estimated_trajectory_gtrs, true_trajectory_gtrs] = gtrs(a_i, n, k, sigma, destinations, initial_uav_position)\n[estimated_trajectory_wls, true_trajectory_wls] = wls(a_i, n, k, sigma, destinations, initial_uav_position)\nprint(f'GTRS ARMSE: {compute_armse(estimated_trajectory_gtrs, true_trajectory_gtrs)}')\nprint(f'WLS ARMSE: {compute_armse(estimated_trajectory_wls, true_trajectory_wls)}')\nplot_rmse([estimated_trajectory_gtrs, estimated_trajectory_wls],[true_trajectory_gtrs, true_trajectory_wls])"
      ]
    }
  ],
  "metadata": {
    "kernelspec": {
      "display_name": "Python 3",
      "language": "python",
      "name": "python3"
    },
    "language_info": {
      "codemirror_mode": {
        "name": "ipython",
        "version": 3
      },
      "file_extension": ".py",
      "mimetype": "text/x-python",
      "name": "python",
      "nbconvert_exporter": "python",
      "pygments_lexer": "ipython3",
      "version": "3.10.12"
    }
  },
  "nbformat": 4,
  "nbformat_minor": 0
}