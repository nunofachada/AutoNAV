{
  "cells": [
    {
      "cell_type": "code",
      "execution_count": null,
      "metadata": {
        "collapsed": false
      },
      "outputs": [],
      "source": [
        "%matplotlib inline"
      ]
    },
    {
      "cell_type": "markdown",
      "metadata": {},
      "source": [
        "# WLS example in 3D\n"
      ]
    },
    {
      "cell_type": "markdown",
      "metadata": {},
      "source": [
        "First, the required dependencies are imported:\n\n"
      ]
    },
    {
      "cell_type": "code",
      "execution_count": null,
      "metadata": {
        "collapsed": false
      },
      "outputs": [],
      "source": [
        "from autonav import wls\nfrom autonav.file_handlers import readpathfile\nfrom autonav.plots import plot_trajectories\nfrom numpy import array"
      ]
    },
    {
      "cell_type": "markdown",
      "metadata": {},
      "source": [
        "The next step is to define the simulation parameters:\n\n"
      ]
    },
    {
      "cell_type": "code",
      "execution_count": null,
      "metadata": {
        "collapsed": false
      },
      "outputs": [],
      "source": [
        "b = 200\nn = 8\na_i = array(\n    [\n    [0, 0, 0],\n    [0, b, 0],\n    [b / 2, 0, 0],\n    [b / 2, b, 0],\n    [0, 0, b / 8],\n    [0, b, b / 8],\n    [b / 2, 0, b / 8],\n    [b / 2, b, b / 8],]\n    ).T\nk = 50\nsigma = 1\nv_max = b / 100\ntau = b / 50\ngamma = b / 100\ninitial_uav_position = [10, 10, 5]\ndestinations = readpathfile(\"Path.csv\")"
      ]
    },
    {
      "cell_type": "markdown",
      "metadata": {},
      "source": [
        "Finally, one can invoke the [`wls`] and function and plot the estimated trajectory:\n\n"
      ]
    },
    {
      "cell_type": "code",
      "execution_count": null,
      "metadata": {
        "collapsed": false
      },
      "outputs": [],
      "source": [
        "[estimated_trajectory, true_trajectory] = wls(a_i, n, k, sigma, destinations, initial_uav_position, v_max, tau, gamma)\nplt_obj = plot_trajectories(destinations, [estimated_trajectory], a_i, ['WLS'])"
      ]
    }
  ],
  "metadata": {
    "kernelspec": {
      "display_name": "Python 3",
      "language": "python",
      "name": "python3"
    },
    "language_info": {
      "codemirror_mode": {
        "name": "ipython",
        "version": 3
      },
      "file_extension": ".py",
      "mimetype": "text/x-python",
      "name": "python",
      "nbconvert_exporter": "python",
      "pygments_lexer": "ipython3",
      "version": "3.10.12"
    }
  },
  "nbformat": 4,
  "nbformat_minor": 0
}